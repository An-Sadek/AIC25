{
 "cells": [
  {
   "cell_type": "code",
   "execution_count": 1,
   "id": "e33ec746",
   "metadata": {},
   "outputs": [
    {
     "name": "stderr",
     "output_type": "stream",
     "text": [
      "d:\\Apps\\miniconda\\envs\\aic\\Lib\\site-packages\\tqdm\\auto.py:21: TqdmWarning: IProgress not found. Please update jupyter and ipywidgets. See https://ipywidgets.readthedocs.io/en/stable/user_install.html\n",
      "  from .autonotebook import tqdm as notebook_tqdm\n"
     ]
    }
   ],
   "source": [
    "import os\n",
    "import subprocess\n",
    "from faster_whisper import WhisperModel"
   ]
  },
  {
   "cell_type": "code",
   "execution_count": 2,
   "id": "19e8864c",
   "metadata": {},
   "outputs": [],
   "source": [
    "BASE_VIDEO_PATH = \"../../../Data/AIC2025/Videos\"\n",
    "BASE_OUTPUT = \"../../../Data/AIC2025/Audios\"\n",
    "DATA_PATH = \"../../data\"\n",
    "TRANSCRIPT_PATH = \"../../data/transcript\"\n",
    "AUDIO_PATH = \"../../data/audio\""
   ]
  },
  {
   "cell_type": "code",
   "execution_count": 3,
   "id": "52f27c2c",
   "metadata": {},
   "outputs": [],
   "source": [
    "model_size = \"large-v3-turbo\"\n",
    "model = WhisperModel(model_size, device=\"cpu\", compute_type=\"int8\")"
   ]
  },
  {
   "cell_type": "code",
   "execution_count": 4,
   "id": "ff74bbef",
   "metadata": {},
   "outputs": [],
   "source": [
    "def video_to_audio(base_input_path, base_output_path):\n",
    "    assert os.path.exists(base_input_path) and os.path.exists(base_output_path), \\\n",
    "        \"Đường dẫn không tồn tại\"\n",
    "\n",
    "    for video_part in os.listdir(base_input_path):\n",
    "        video_part_path = os.path.join(base_input_path, video_part, \"video\")\n",
    "\n",
    "        if not os.path.isdir(video_part_path):\n",
    "            continue\n",
    "\n",
    "        for video in os.listdir(video_part_path):\n",
    "            video_path = os.path.join(video_part_path, video)\n",
    "            video_name = os.path.splitext(os.path.basename(video_path))[0]\n",
    "\n",
    "            output_part_path = os.path.join(base_output_path, video_part)\n",
    "            os.makedirs(output_part_path, exist_ok=True)\n",
    "\n",
    "            output_file = os.path.join(output_part_path, f\"{video_name}.wav\")\n",
    "\n",
    "            if os.path.exists(output_file):\n",
    "                os.remove(output_file)\n",
    "                print(f\"Xóa file đã tồn tại: {output_file}\")\n",
    "\n",
    "            print(\"Convert:\", video_path)\n",
    "\n",
    "            try:\n",
    "                subprocess.run(\n",
    "                    [\n",
    "                        \"ffmpeg\", \"-y\",         # -y để ghi đè file nếu có\n",
    "                        \"-i\", video_path,\n",
    "                        \"-vn\",\n",
    "                        \"-acodec\", \"pcm_s16le\",\n",
    "                        \"-ar\", \"44100\",\n",
    "                        \"-ac\", \"2\",\n",
    "                        output_file\n",
    "                    ],\n",
    "                    check=True,\n",
    "                    stdout=subprocess.DEVNULL,  # ẩn log nếu không cần\n",
    "                    stderr=subprocess.STDOUT\n",
    "                )\n",
    "            except subprocess.CalledProcessError as e:\n",
    "                print(f\"❌ Lỗi khi convert {video_path}: {e}\")\n",
    "                continue  # sang file tiếp theo\n"
   ]
  },
  {
   "cell_type": "code",
   "execution_count": 5,
   "id": "69d290c0",
   "metadata": {},
   "outputs": [],
   "source": [
    "#video_to_audio(BASE_VIDEO_PATH, AUDIO_PATH)"
   ]
  },
  {
   "cell_type": "code",
   "execution_count": 11,
   "id": "c55fd155",
   "metadata": {},
   "outputs": [],
   "source": [
    "def audio_to_transcript(base_input_path, base_output_path):\n",
    "    assert  os.path.exists(base_input_path) or \\\n",
    "            os.path.exists(base_output_path), \\\n",
    "            \"Đường dẫn không tồn tại\"\n",
    "    \n",
    "    # Load model\n",
    "    model_size = \"large-v3-turbo\"\n",
    "    model = WhisperModel(model_size, device=\"cpu\", compute_type=\"int8\")\n",
    "    \n",
    "    # Duyệt từng phần\n",
    "    for audio_part in os.listdir(base_input_path):\n",
    "        audio_part_path = os.path.join(base_input_path, audio_part)\n",
    "\n",
    "        # Tạo output part nếu chưa tồn tại\n",
    "        output_part_path = os.path.join(base_output_path, audio_part)\n",
    "        if not os.path.exists(output_part_path):\n",
    "            os.mkdir(output_part_path)\n",
    "\n",
    "        # Duyệt từng audio\n",
    "        for audio in os.listdir(audio_part_path):\n",
    "            audio_path = os.path.join(audio_part_path, audio)\n",
    "            audio_name = os.path.splitext(os.path.basename(audio_path))[0]\n",
    "\n",
    "            print(f\"Tiến hành đọc văn bản {audio_name}\")\n",
    "            segments, _ = model.transcribe(f\"{audio_path}\", beam_size=5, language=\"vi\", condition_on_previous_text=False, vad_filter=True)\n",
    "\n",
    "            with open(f\"{output_part_path}/{audio_name}.txt\", \"w\", encoding=\"utf-8\") as f:\n",
    "                for segment in segments:\n",
    "                    f.write(f\"{segment.text}\\n\")\n",
    "\n",
    "            break\n",
    "\n",
    "        break\n",
    "            "
   ]
  },
  {
   "cell_type": "code",
   "execution_count": null,
   "id": "417b3fd0",
   "metadata": {},
   "outputs": [
    {
     "name": "stdout",
     "output_type": "stream",
     "text": [
      "Tiến hành đọc văn bản L21_V001\n"
     ]
    }
   ],
   "source": [
    "audio_to_transcript(AUDIO_PATH, TRANSCRIPT_PATH)"
   ]
  },
  {
   "cell_type": "code",
   "execution_count": null,
   "id": "a36bac4b",
   "metadata": {},
   "outputs": [],
   "source": []
  }
 ],
 "metadata": {
  "kernelspec": {
   "display_name": "aic",
   "language": "python",
   "name": "python3"
  },
  "language_info": {
   "codemirror_mode": {
    "name": "ipython",
    "version": 3
   },
   "file_extension": ".py",
   "mimetype": "text/x-python",
   "name": "python",
   "nbconvert_exporter": "python",
   "pygments_lexer": "ipython3",
   "version": "3.12.11"
  }
 },
 "nbformat": 4,
 "nbformat_minor": 5
}
